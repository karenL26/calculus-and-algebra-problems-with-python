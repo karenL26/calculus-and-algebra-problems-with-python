{
  "cells": [
    {
      "cell_type": "markdown",
      "id": "5dbe7b9e",
      "metadata": {
        "id": "5dbe7b9e"
      },
      "source": [
        "# Calculus and Algebra problems"
      ]
    },
    {
      "cell_type": "markdown",
      "id": "519c4b12",
      "metadata": {
        "id": "519c4b12"
      },
      "source": [
        "## Calculus\n",
        "\n",
        "Calculus is not obscure. It is the language for modeling behaviors. Calculus enables us to find the rate of changes in order to optimise a function. Without calculus, we would not be able to fully understand techniques such as:\n",
        "\n",
        "Backpropagation in neural networks\n",
        "\n",
        "Regression using optimal least square\n",
        "\n",
        "Expectation maximization in fitting probability models"
      ]
    },
    {
      "cell_type": "markdown",
      "id": "b7e2e87a",
      "metadata": {
        "id": "b7e2e87a"
      },
      "source": [
        "### Exercise 1\n",
        "\n",
        "Let’s say in my office, it takes me 10 seconds (time) to travel 25 meters (distance) to the coffee machine.\n",
        "If we want to express the above situation as a function, then it would be:\n",
        "\n",
        "distance = speed * time\n",
        "\n",
        "So for this case, speed is the first derivative of the distance function above. As speed describes the rate of change of distance over time, when people say taking the first derivative of a certain function, they mean finding out the rate of change of a function.\n",
        "\n",
        "\n",
        "Build the linear function on x∈[0,10] and create a graph and a table."
      ]
    },
    {
      "cell_type": "code",
      "execution_count": 1,
      "id": "bb3e954e",
      "metadata": {
        "id": "bb3e954e"
      },
      "outputs": [],
      "source": [
        "#import libraries\n",
        "import matplotlib.pyplot as plt\n",
        "%matplotlib inline\n",
        "import numpy as np\n",
        "import sympy as sy\n",
        "import pandas as pd\n",
        "\n",
        "#define function and domain\n",
        "def f(x): \n",
        "    return x * 2.5\n",
        "x = np.linspace(0,10,20)"
      ]
    },
    {
      "cell_type": "code",
      "execution_count": 2,
      "id": "dbc4c780",
      "metadata": {
        "id": "dbc4c780",
        "outputId": "81be9fde-93f9-4330-8d98-41b275d95385",
        "colab": {
          "base_uri": "https://localhost:8080/",
          "height": 282
        }
      },
      "outputs": [
        {
          "output_type": "execute_result",
          "data": {
            "text/plain": [
              "[<matplotlib.lines.Line2D at 0x7f13b227e910>]"
            ]
          },
          "metadata": {},
          "execution_count": 2
        },
        {
          "output_type": "display_data",
          "data": {
            "text/plain": [
              "<Figure size 432x288 with 1 Axes>"
            ],
            "image/png": "[encoded data removed]"
          },
          "metadata": {
            "needs_background": "light"
          }
        }
      ],
      "source": [
        "#plot of function on domain\n",
        "plt.plot(x, f(x))"
      ]
    },
    {
      "cell_type": "code",
      "execution_count": 3,
      "id": "4c4d4f20",
      "metadata": {
        "id": "4c4d4f20",
        "outputId": "ed8c207b-4234-4ec8-e063-e1db6e57b786",
        "colab": {
          "base_uri": "https://localhost:8080/",
          "height": 677
        }
      },
      "outputs": [
        {
          "output_type": "execute_result",
          "data": {
            "text/plain": [
              "            x       f(x)\n",
              "0    0.000000   0.000000\n",
              "1    0.526316   1.315789\n",
              "2    1.052632   2.631579\n",
              "3    1.578947   3.947368\n",
              "4    2.105263   5.263158\n",
              "5    2.631579   6.578947\n",
              "6    3.157895   7.894737\n",
              "7    3.684211   9.210526\n",
              "8    4.210526  10.526316\n",
              "9    4.736842  11.842105\n",
              "10   5.263158  13.157895\n",
              "11   5.789474  14.473684\n",
              "12   6.315789  15.789474\n",
              "13   6.842105  17.105263\n",
              "14   7.368421  18.421053\n",
              "15   7.894737  19.736842\n",
              "16   8.421053  21.052632\n",
              "17   8.947368  22.368421\n",
              "18   9.473684  23.684211\n",
              "19  10.000000  25.000000"
            ],
            "text/html": [
              "\n",
              "  <div id=\"df-b018f0be-bfb6-4dbd-8596-2c5cae810710\">\n",
              "    <div class=\"colab-df-container\">\n",
              "      <div>\n",
              "<style scoped>\n",
              "    .dataframe tbody tr th:only-of-type {\n",
              "        vertical-align: middle;\n",
              "    }\n",
              "\n",
              "    .dataframe tbody tr th {\n",
              "        vertical-align: top;\n",
              "    }\n",
              "\n",
              "    .dataframe thead th {\n",
              "        text-align: right;\n",
              "    }\n",
              "</style>\n",
              "<table border=\"1\" class=\"dataframe\">\n",
              "  <thead>\n",
              "    <tr style=\"text-align: right;\">\n",
              "      <th></th>\n",
              "      <th>x</th>\n",
              "      <th>f(x)</th>\n",
              "    </tr>\n",
              "  </thead>\n",
              "  <tbody>\n",
              "    <tr>\n",
              "      <th>0</th>\n",
              "      <td>0.000000</td>\n",
              "      <td>0.000000</td>\n",
              "    </tr>\n",
              "    <tr>\n",
              "      <th>1</th>\n",
              "      <td>0.526316</td>\n",
              "      <td>1.315789</td>\n",
              "    </tr>\n",
              "    <tr>\n",
              "      <th>2</th>\n",
              "      <td>1.052632</td>\n",
              "      <td>2.631579</td>\n",
              "    </tr>\n",
              "    <tr>\n",
              "      <th>3</th>\n",
              "      <td>1.578947</td>\n",
              "      <td>3.947368</td>\n",
              "    </tr>\n",
              "    <tr>\n",
              "      <th>4</th>\n",
              "      <td>2.105263</td>\n",
              "      <td>5.263158</td>\n",
              "    </tr>\n",
              "    <tr>\n",
              "      <th>5</th>\n",
              "      <td>2.631579</td>\n",
              "      <td>6.578947</td>\n",
              "    </tr>\n",
              "    <tr>\n",
              "      <th>6</th>\n",
              "      <td>3.157895</td>\n",
              "      <td>7.894737</td>\n",
              "    </tr>\n",
              "    <tr>\n",
              "      <th>7</th>\n",
              "      <td>3.684211</td>\n",
              "      <td>9.210526</td>\n",
              "    </tr>\n",
              "    <tr>\n",
              "      <th>8</th>\n",
              "      <td>4.210526</td>\n",
              "      <td>10.526316</td>\n",
              "    </tr>\n",
              "    <tr>\n",
              "      <th>9</th>\n",
              "      <td>4.736842</td>\n",
              "      <td>11.842105</td>\n",
              "    </tr>\n",
              "    <tr>\n",
              "      <th>10</th>\n",
              "      <td>5.263158</td>\n",
              "      <td>13.157895</td>\n",
              "    </tr>\n",
              "    <tr>\n",
              "      <th>11</th>\n",
              "      <td>5.789474</td>\n",
              "      <td>14.473684</td>\n",
              "    </tr>\n",
              "    <tr>\n",
              "      <th>12</th>\n",
              "      <td>6.315789</td>\n",
              "      <td>15.789474</td>\n",
              "    </tr>\n",
              "    <tr>\n",
              "      <th>13</th>\n",
              "      <td>6.842105</td>\n",
              "      <td>17.105263</td>\n",
              "    </tr>\n",
              "    <tr>\n",
              "      <th>14</th>\n",
              "      <td>7.368421</td>\n",
              "      <td>18.421053</td>\n",
              "    </tr>\n",
              "    <tr>\n",
              "      <th>15</th>\n",
              "      <td>7.894737</td>\n",
              "      <td>19.736842</td>\n",
              "    </tr>\n",
              "    <tr>\n",
              "      <th>16</th>\n",
              "      <td>8.421053</td>\n",
              "      <td>21.052632</td>\n",
              "    </tr>\n",
              "    <tr>\n",
              "      <th>17</th>\n",
              "      <td>8.947368</td>\n",
              "      <td>22.368421</td>\n",
              "    </tr>\n",
              "    <tr>\n",
              "      <th>18</th>\n",
              "      <td>9.473684</td>\n",
              "      <td>23.684211</td>\n",
              "    </tr>\n",
              "    <tr>\n",
              "      <th>19</th>\n",
              "      <td>10.000000</td>\n",
              "      <td>25.000000</td>\n",
              "    </tr>\n",
              "  </tbody>\n",
              "</table>\n",
              "</div>\n",
              "      <button class=\"colab-df-convert\" onclick=\"convertToInteractive('df-b018f0be-bfb6-4dbd-8596-2c5cae810710')\"\n",
              "              title=\"Convert this dataframe to an interactive table.\"\n",
              "              style=\"display:none;\">\n",
              "        \n",
              "  <svg xmlns=\"http://www.w3.org/2000/svg\" height=\"24px\"viewBox=\"0 0 24 24\"\n",
              "       width=\"24px\">\n",
              "    <path d=\"M0 0h24v24H0V0z\" fill=\"none\"/>\n",
              "    <path d=\"M18.56 5.44l.94 2.06.94-2.06 2.06-.94-2.06-.94-.94-2.06-.94 2.06-2.06.94zm-11 1L8.5 8.5l.94-2.06 2.06-.94-2.06-.94L8.5 2.5l-.94 2.06-2.06.94zm10 10l.94 2.06.94-2.06 2.06-.94-2.06-.94-.94-2.06-.94 2.06-2.06.94z\"/><path d=\"M17.41 7.96l-1.37-1.37c-.4-.4-.92-.59-1.43-.59-.52 0-1.04.2-1.43.59L10.3 9.45l-7.72 7.72c-.78.78-.78 2.05 0 2.83L4 21.41c.39.39.9.59 1.41.59.51 0 1.02-.2 1.41-.59l7.78-7.78 2.81-2.81c.8-.78.8-2.07 0-2.86zM5.41 20L4 18.59l7.72-7.72 1.47 1.35L5.41 20z\"/>\n",
              "  </svg>\n",
              "      </button>\n",
              "      \n",
              "  <style>\n",
              "    .colab-df-container {\n",
              "      display:flex;\n",
              "      flex-wrap:wrap;\n",
              "      gap: 12px;\n",
              "    }\n",
              "\n",
              "    .colab-df-convert {\n",
              "      background-color: #E8F0FE;\n",
              "      border: none;\n",
              "      border-radius: 50%;\n",
              "      cursor: pointer;\n",
              "      display: none;\n",
              "      fill: #1967D2;\n",
              "      height: 32px;\n",
              "      padding: 0 0 0 0;\n",
              "      width: 32px;\n",
              "    }\n",
              "\n",
              "    .colab-df-convert:hover {\n",
              "      background-color: #E2EBFA;\n",
              "      box-shadow: 0px 1px 2px rgba(60, 64, 67, 0.3), 0px 1px 3px 1px rgba(60, 64, 67, 0.15);\n",
              "      fill: #174EA6;\n",
              "    }\n",
              "\n",
              "    [theme=dark] .colab-df-convert {\n",
              "      background-color: #3B4455;\n",
              "      fill: #D2E3FC;\n",
              "    }\n",
              "\n",
              "    [theme=dark] .colab-df-convert:hover {\n",
              "      background-color: #434B5C;\n",
              "      box-shadow: 0px 1px 3px 1px rgba(0, 0, 0, 0.15);\n",
              "      filter: drop-shadow(0px 1px 2px rgba(0, 0, 0, 0.3));\n",
              "      fill: #FFFFFF;\n",
              "    }\n",
              "  </style>\n",
              "\n",
              "      <script>\n",
              "        const buttonEl =\n",
              "          document.querySelector('#df-b018f0be-bfb6-4dbd-8596-2c5cae810710 button.colab-df-convert');\n",
              "        buttonEl.style.display =\n",
              "          google.colab.kernel.accessAllowed ? 'block' : 'none';\n",
              "\n",
              "        async function convertToInteractive(key) {\n",
              "          const element = document.querySelector('#df-b018f0be-bfb6-4dbd-8596-2c5cae810710');\n",
              "          const dataTable =\n",
              "            await google.colab.kernel.invokeFunction('convertToInteractive',\n",
              "                                                     [key], {});\n",
              "          if (!dataTable) return;\n",
              "\n",
              "          const docLinkHtml = 'Like what you see? Visit the ' +\n",
              "            '<a target=\"_blank\" href=https://colab.research.google.com/notebooks/data_table.ipynb>data table notebook</a>'\n",
              "            + ' to learn more about interactive tables.';\n",
              "          element.innerHTML = '';\n",
              "          dataTable['output_type'] = 'display_data';\n",
              "          await google.colab.output.renderOutput(dataTable, element);\n",
              "          const docLink = document.createElement('div');\n",
              "          docLink.innerHTML = docLinkHtml;\n",
              "          element.appendChild(docLink);\n",
              "        }\n",
              "      </script>\n",
              "    </div>\n",
              "  </div>\n",
              "  "
            ]
          },
          "metadata": {},
          "execution_count": 3
        }
      ],
      "source": [
        "# create a dataframe\n",
        "f1 = pd.DataFrame({'x': x, 'f(x)': f(x)})\n",
        "f1"
      ]
    },
    {
      "cell_type": "markdown",
      "id": "1144168d",
      "metadata": {
        "id": "1144168d"
      },
      "source": [
        "### Exercise 2\n",
        "\n",
        "It turned out that I wasn't walking a constant speed towards getting my coffee but I was accelerating (my speed increased over time). It still took me 10 seconds to travel from my seat to my coffee but I was walking faster and faster.\n",
        "\n",
        "speed = acceleration * time\n",
        "\n",
        "The first derivative of the speed function is acceleration. I realise that the speed function is closely related to the distance function.\n",
        "\n",
        "Build the function on x∈[0,10] and create a graph and a table."
      ]
    },
    {
      "cell_type": "code",
      "execution_count": 4,
      "id": "ec1f8bd7",
      "metadata": {
        "colab": {
          "base_uri": "https://localhost:8080/",
          "height": 282
        },
        "id": "ec1f8bd7",
        "outputId": "63e0f3c6-890c-44c3-9221-e4884f4c05a9"
      },
      "outputs": [
        {
          "output_type": "execute_result",
          "data": {
            "text/plain": [
              "[<matplotlib.lines.Line2D at 0x7f13b1d1b9d0>]"
            ]
          },
          "metadata": {},
          "execution_count": 4
        },
        {
          "output_type": "display_data",
          "data": {
            "text/plain": [
              "<Figure size 432x288 with 1 Axes>"
            ],
            "image/png": "[encoded data removed]"
          },
          "metadata": {
            "needs_background": "light"
          }
        }
      ],
      "source": [
        "#define and plot the function\n",
        "def g(x): \n",
        "    return x**2 * 2.5/10\n",
        "x = np.linspace(0,10,20)\n",
        "plt.plot(x, g(x))"
      ]
    },
    {
      "cell_type": "code",
      "execution_count": 5,
      "id": "ba5c497b",
      "metadata": {
        "colab": {
          "base_uri": "https://localhost:8080/",
          "height": 677
        },
        "id": "ba5c497b",
        "outputId": "487efa39-8917-4247-f39d-8cb8294d41a5"
      },
      "outputs": [
        {
          "output_type": "execute_result",
          "data": {
            "text/plain": [
              "            x       g(x)\n",
              "0    0.000000   0.000000\n",
              "1    0.526316   0.069252\n",
              "2    1.052632   0.277008\n",
              "3    1.578947   0.623269\n",
              "4    2.105263   1.108033\n",
              "5    2.631579   1.731302\n",
              "6    3.157895   2.493075\n",
              "7    3.684211   3.393352\n",
              "8    4.210526   4.432133\n",
              "9    4.736842   5.609418\n",
              "10   5.263158   6.925208\n",
              "11   5.789474   8.379501\n",
              "12   6.315789   9.972299\n",
              "13   6.842105  11.703601\n",
              "14   7.368421  13.573407\n",
              "15   7.894737  15.581717\n",
              "16   8.421053  17.728532\n",
              "17   8.947368  20.013850\n",
              "18   9.473684  22.437673\n",
              "19  10.000000  25.000000"
            ],
            "text/html": [
              "\n",
              "  <div id=\"df-2ada3968-382d-4fb5-a3e6-91fc33656658\">\n",
              "    <div class=\"colab-df-container\">\n",
              "      <div>\n",
              "<style scoped>\n",
              "    .dataframe tbody tr th:only-of-type {\n",
              "        vertical-align: middle;\n",
              "    }\n",
              "\n",
              "    .dataframe tbody tr th {\n",
              "        vertical-align: top;\n",
              "    }\n",
              "\n",
              "    .dataframe thead th {\n",
              "        text-align: right;\n",
              "    }\n",
              "</style>\n",
              "<table border=\"1\" class=\"dataframe\">\n",
              "  <thead>\n",
              "    <tr style=\"text-align: right;\">\n",
              "      <th></th>\n",
              "      <th>x</th>\n",
              "      <th>g(x)</th>\n",
              "    </tr>\n",
              "  </thead>\n",
              "  <tbody>\n",
              "    <tr>\n",
              "      <th>0</th>\n",
              "      <td>0.000000</td>\n",
              "      <td>0.000000</td>\n",
              "    </tr>\n",
              "    <tr>\n",
              "      <th>1</th>\n",
              "      <td>0.526316</td>\n",
              "      <td>0.069252</td>\n",
              "    </tr>\n",
              "    <tr>\n",
              "      <th>2</th>\n",
              "      <td>1.052632</td>\n",
              "      <td>0.277008</td>\n",
              "    </tr>\n",
              "    <tr>\n",
              "      <th>3</th>\n",
              "      <td>1.578947</td>\n",
              "      <td>0.623269</td>\n",
              "    </tr>\n",
              "    <tr>\n",
              "      <th>4</th>\n",
              "      <td>2.105263</td>\n",
              "      <td>1.108033</td>\n",
              "    </tr>\n",
              "    <tr>\n",
              "      <th>5</th>\n",
              "      <td>2.631579</td>\n",
              "      <td>1.731302</td>\n",
              "    </tr>\n",
              "    <tr>\n",
              "      <th>6</th>\n",
              "      <td>3.157895</td>\n",
              "      <td>2.493075</td>\n",
              "    </tr>\n",
              "    <tr>\n",
              "      <th>7</th>\n",
              "      <td>3.684211</td>\n",
              "      <td>3.393352</td>\n",
              "    </tr>\n",
              "    <tr>\n",
              "      <th>8</th>\n",
              "      <td>4.210526</td>\n",
              "      <td>4.432133</td>\n",
              "    </tr>\n",
              "    <tr>\n",
              "      <th>9</th>\n",
              "      <td>4.736842</td>\n",
              "      <td>5.609418</td>\n",
              "    </tr>\n",
              "    <tr>\n",
              "      <th>10</th>\n",
              "      <td>5.263158</td>\n",
              "      <td>6.925208</td>\n",
              "    </tr>\n",
              "    <tr>\n",
              "      <th>11</th>\n",
              "      <td>5.789474</td>\n",
              "      <td>8.379501</td>\n",
              "    </tr>\n",
              "    <tr>\n",
              "      <th>12</th>\n",
              "      <td>6.315789</td>\n",
              "      <td>9.972299</td>\n",
              "    </tr>\n",
              "    <tr>\n",
              "      <th>13</th>\n",
              "      <td>6.842105</td>\n",
              "      <td>11.703601</td>\n",
              "    </tr>\n",
              "    <tr>\n",
              "      <th>14</th>\n",
              "      <td>7.368421</td>\n",
              "      <td>13.573407</td>\n",
              "    </tr>\n",
              "    <tr>\n",
              "      <th>15</th>\n",
              "      <td>7.894737</td>\n",
              "      <td>15.581717</td>\n",
              "    </tr>\n",
              "    <tr>\n",
              "      <th>16</th>\n",
              "      <td>8.421053</td>\n",
              "      <td>17.728532</td>\n",
              "    </tr>\n",
              "    <tr>\n",
              "      <th>17</th>\n",
              "      <td>8.947368</td>\n",
              "      <td>20.013850</td>\n",
              "    </tr>\n",
              "    <tr>\n",
              "      <th>18</th>\n",
              "      <td>9.473684</td>\n",
              "      <td>22.437673</td>\n",
              "    </tr>\n",
              "    <tr>\n",
              "      <th>19</th>\n",
              "      <td>10.000000</td>\n",
              "      <td>25.000000</td>\n",
              "    </tr>\n",
              "  </tbody>\n",
              "</table>\n",
              "</div>\n",
              "      <button class=\"colab-df-convert\" onclick=\"convertToInteractive('df-2ada3968-382d-4fb5-a3e6-91fc33656658')\"\n",
              "              title=\"Convert this dataframe to an interactive table.\"\n",
              "              style=\"display:none;\">\n",
              "        \n",
              "  <svg xmlns=\"http://www.w3.org/2000/svg\" height=\"24px\"viewBox=\"0 0 24 24\"\n",
              "       width=\"24px\">\n",
              "    <path d=\"M0 0h24v24H0V0z\" fill=\"none\"/>\n",
              "    <path d=\"M18.56 5.44l.94 2.06.94-2.06 2.06-.94-2.06-.94-.94-2.06-.94 2.06-2.06.94zm-11 1L8.5 8.5l.94-2.06 2.06-.94-2.06-.94L8.5 2.5l-.94 2.06-2.06.94zm10 10l.94 2.06.94-2.06 2.06-.94-2.06-.94-.94-2.06-.94 2.06-2.06.94z\"/><path d=\"M17.41 7.96l-1.37-1.37c-.4-.4-.92-.59-1.43-.59-.52 0-1.04.2-1.43.59L10.3 9.45l-7.72 7.72c-.78.78-.78 2.05 0 2.83L4 21.41c.39.39.9.59 1.41.59.51 0 1.02-.2 1.41-.59l7.78-7.78 2.81-2.81c.8-.78.8-2.07 0-2.86zM5.41 20L4 18.59l7.72-7.72 1.47 1.35L5.41 20z\"/>\n",
              "  </svg>\n",
              "      </button>\n",
              "      \n",
              "  <style>\n",
              "    .colab-df-container {\n",
              "      display:flex;\n",
              "      flex-wrap:wrap;\n",
              "      gap: 12px;\n",
              "    }\n",
              "\n",
              "    .colab-df-convert {\n",
              "      background-color: #E8F0FE;\n",
              "      border: none;\n",
              "      border-radius: 50%;\n",
              "      cursor: pointer;\n",
              "      display: none;\n",
              "      fill: #1967D2;\n",
              "      height: 32px;\n",
              "      padding: 0 0 0 0;\n",
              "      width: 32px;\n",
              "    }\n",
              "\n",
              "    .colab-df-convert:hover {\n",
              "      background-color: #E2EBFA;\n",
              "      box-shadow: 0px 1px 2px rgba(60, 64, 67, 0.3), 0px 1px 3px 1px rgba(60, 64, 67, 0.15);\n",
              "      fill: #174EA6;\n",
              "    }\n",
              "\n",
              "    [theme=dark] .colab-df-convert {\n",
              "      background-color: #3B4455;\n",
              "      fill: #D2E3FC;\n",
              "    }\n",
              "\n",
              "    [theme=dark] .colab-df-convert:hover {\n",
              "      background-color: #434B5C;\n",
              "      box-shadow: 0px 1px 3px 1px rgba(0, 0, 0, 0.15);\n",
              "      filter: drop-shadow(0px 1px 2px rgba(0, 0, 0, 0.3));\n",
              "      fill: #FFFFFF;\n",
              "    }\n",
              "  </style>\n",
              "\n",
              "      <script>\n",
              "        const buttonEl =\n",
              "          document.querySelector('#df-2ada3968-382d-4fb5-a3e6-91fc33656658 button.colab-df-convert');\n",
              "        buttonEl.style.display =\n",
              "          google.colab.kernel.accessAllowed ? 'block' : 'none';\n",
              "\n",
              "        async function convertToInteractive(key) {\n",
              "          const element = document.querySelector('#df-2ada3968-382d-4fb5-a3e6-91fc33656658');\n",
              "          const dataTable =\n",
              "            await google.colab.kernel.invokeFunction('convertToInteractive',\n",
              "                                                     [key], {});\n",
              "          if (!dataTable) return;\n",
              "\n",
              "          const docLinkHtml = 'Like what you see? Visit the ' +\n",
              "            '<a target=\"_blank\" href=https://colab.research.google.com/notebooks/data_table.ipynb>data table notebook</a>'\n",
              "            + ' to learn more about interactive tables.';\n",
              "          element.innerHTML = '';\n",
              "          dataTable['output_type'] = 'display_data';\n",
              "          await google.colab.output.renderOutput(dataTable, element);\n",
              "          const docLink = document.createElement('div');\n",
              "          docLink.innerHTML = docLinkHtml;\n",
              "          element.appendChild(docLink);\n",
              "        }\n",
              "      </script>\n",
              "    </div>\n",
              "  </div>\n",
              "  "
            ]
          },
          "metadata": {},
          "execution_count": 5
        }
      ],
      "source": [
        "#create a dataframe\n",
        "g1 = pd.DataFrame({'x': x, 'g(x)': g(x)})\n",
        "g1"
      ]
    },
    {
      "cell_type": "markdown",
      "id": "66d4cc18",
      "metadata": {
        "id": "66d4cc18"
      },
      "source": [
        "Before exercise 3, we'll make a brief introduction to Gradient Descent algorithm, which will have a larger explanation in future modules of the bootcamp.\n",
        "\n",
        "Gradient Descent algorithm is the hero behind the family of deep learning algorithms. When an algorithm in this family runs, it tries to minimize the error between the training input and predicted output. This minimization is done by optimization algorithms and gradient descent is the most popular one.\n",
        "\n",
        "Let’s say you have these input & output pairs:\n",
        "\n",
        "```py\n",
        "input:\n",
        "[\n",
        " [1,2],\n",
        " [3,4]\n",
        "]\n",
        "\n",
        "output:\n",
        "\n",
        "[\n",
        " [50],\n",
        " [110]\n",
        "]\n",
        "```\n",
        "We can estimate that if we multiply the input values by [10, 20], we can have the output as shown above.\n",
        "```py\n",
        "1(10) + 2(20) = 50\n",
        "\n",
        "3(10) + 4(20) = 110\n",
        "```\n",
        "When a machine learning algorithm starts running, it assigns random values and makes a prediction. \n",
        "Let’s say it assigned [1,2] values:\n",
        "```py\n",
        "1(1) + 2(2) = 5\n",
        "\n",
        "3(1) + 4(2) = 11\n",
        "```\n",
        "Once it has the predictions, it calculates the error: the difference between the real data and the predicted data. There are many ways to calculate the error and they are called loss functions. \n",
        "Once we have this value, the optimization algorithm starts showing itself and it sets new values which replace the initial random values. \n",
        "\n",
        "And, the loop continues until a condition is met. That condition can be to loop n times, or to loop until error is smaller than a value."
      ]
    },
    {
      "cell_type": "markdown",
      "id": "85ef2f0b",
      "metadata": {
        "id": "85ef2f0b"
      },
      "source": [
        "It can be hard to understand **gradient descent** without understanding **gradient**. So, let’s focus on what gradient is. The gradient shows the direction of the greatest change of a scalar function. The gradient calculation is done with derivatives, so let’s start with a simple example. To calculate the gradient, we just need to remember some linear algebra calculations from high school because we need to calculate derivatives.\n",
        "\n",
        "Let’s say we want to find the minimum point of $f(x) = x^2$. The derivative of that function is $df(x)=2x$. \n",
        "\n",
        "The gradient of $f(x)$ at point $x=-10$\n",
        "\n",
        "is \n",
        "\n",
        "$df(-10)=-20$.\n",
        "\n",
        "The gradient of $f(x)$ at point $x=1$\n",
        "\n",
        "is \n",
        "\n",
        "$df(1)=2$.\n",
        "\n",
        "Now let’s visualize $f(x)$ and those $x=-10$ and $x=1$ points."
      ]
    },
    {
      "cell_type": "code",
      "execution_count": 6,
      "id": "4ff7e11a",
      "metadata": {
        "id": "4ff7e11a"
      },
      "outputs": [],
      "source": [
        "import numpy as np\n",
        "import seaborn as sns\n",
        "\n",
        "def f(x):\n",
        "    return x**2\n",
        "\n",
        "def df(x):\n",
        "    return 2*x\n",
        "\n",
        "def visualize(f, x=None):\n",
        "    \n",
        "    xArray = np.linspace(-10, 10, 100) \n",
        "    yArray = f(xArray)\n",
        "    sns.lineplot(x=xArray, y=yArray)\n",
        "    \n",
        "    if x is not None:\n",
        "        assert type(x) in [np.ndarray, list] # x should be numpy array or list\n",
        "        if type(x) is list: # if it is a list, convert to numpy array\n",
        "            x = np.array(x)\n",
        "\n",
        "            \n",
        "        y = f(x)\n",
        "        sns.scatterplot(x=x, y=y, color='red')"
      ]
    },
    {
      "cell_type": "code",
      "execution_count": 7,
      "id": "633a54fd",
      "metadata": {
        "id": "633a54fd",
        "outputId": "7ad14b97-49fe-4db5-a0c7-7e23b9d09ae0",
        "colab": {
          "base_uri": "https://localhost:8080/",
          "height": 265
        }
      },
      "outputs": [
        {
          "output_type": "display_data",
          "data": {
            "text/plain": [
              "<Figure size 432x288 with 1 Axes>"
            ],
            "image/png": "[encoded data removed]"
          },
          "metadata": {
            "needs_background": "light"
          }
        }
      ],
      "source": [
        "visualize(f, x=[-10, 1])"
      ]
    },
    {
      "cell_type": "markdown",
      "id": "9c187ad7",
      "metadata": {
        "id": "9c187ad7"
      },
      "source": [
        "The red dot at x=-10 does not know the surface it stands on and it only knows the coordinates of where it stands and that the gradient of itself which is -20. And the other red dot at x=1 does not know the surface it stands on and it only knows the coordinates of where it stands and that the gradient of itself which is 2.\n",
        "\n",
        "By having only this information: we can say that the red dot at x=-10 should make a bigger jump than x=1 because it has a bigger absolute gradient value. The sign shows the direction. - shows that the red dot at x=-10 should move to the right and the other one should move to the left.\n",
        "\n",
        "In summary; the red dot at x=-10 (gradient: -20) should make a bigger jump to the right and the red dot at x=1 (gradient: 2) should make a smaller jump to the left. \n",
        "\n",
        "We know that the jump length should be proportional to the gradient, but what is that value exactly? We don’t know. So, let’s just say that red points should move with the length of alpha*gradient where alpha is just a parameter.\n",
        "\n",
        "We can say that the new location of the red dot should be calculated with the following formula:\n",
        "\n",
        "x = x - gradient * alpha"
      ]
    },
    {
      "cell_type": "markdown",
      "id": "0a7f5c3f",
      "metadata": {
        "id": "0a7f5c3f"
      },
      "source": [
        "Now let's implement this with **Numpy**. Let’s start with visualizing $f(x)=x^2$ function and $x=-10$ point."
      ]
    },
    {
      "cell_type": "code",
      "execution_count": 8,
      "id": "e26dbdf0",
      "metadata": {
        "colab": {
          "base_uri": "https://localhost:8080/",
          "height": 265
        },
        "id": "e26dbdf0",
        "outputId": "f7800e7a-eb60-4907-fc41-c771da8a4e05"
      },
      "outputs": [
        {
          "output_type": "display_data",
          "data": {
            "text/plain": [
              "<Figure size 432x288 with 1 Axes>"
            ],
            "image/png": "[encoded data removed]"
          },
          "metadata": {
            "needs_background": "light"
          }
        }
      ],
      "source": [
        "visualize(f, x=[-10])"
      ]
    },
    {
      "cell_type": "markdown",
      "id": "6e752e19",
      "metadata": {
        "id": "6e752e19"
      },
      "source": [
        "The following code implements the whole logic explained before:"
      ]
    },
    {
      "cell_type": "code",
      "execution_count": 9,
      "id": "2bdd54f1",
      "metadata": {
        "id": "2bdd54f1"
      },
      "outputs": [],
      "source": [
        "def gradient_descent(x, nsteps=1):\n",
        "    \n",
        "    \n",
        "    #collectXs is an array to store how x changed in each iteration, \n",
        "    #so we can visualize it later\n",
        "    \n",
        "    collectXs = [x]\n",
        "    \n",
        "    #learning_rate is the value that we mentioned as alpha in previous section\n",
        "    \n",
        "    learning_rate = 1e-01\n",
        "    \n",
        "    for _ in range(nsteps):\n",
        "        \n",
        "        #the following one line does the real magic\n",
        "        #the next value of x is calculated by subtracting the gradient*learning_rate by itself\n",
        "        #the intuation behind this line is in the previous section\n",
        "        \n",
        "        x -= df(x) * learning_rate \n",
        "        collectXs.append(x)\n",
        "        \n",
        "    #we return a tuple that contains\n",
        "    #x -> recent x after nsteps \n",
        "    #collectXs -> all the x values that was calculated so far\n",
        "    \n",
        "    return x, collectXs"
      ]
    },
    {
      "cell_type": "markdown",
      "id": "aea74a65",
      "metadata": {
        "id": "aea74a65"
      },
      "source": [
        "Before running gradient descent with 1000 steps, let’s just run it twice, one step at a time to see how x evolves. \n",
        "We start with x=-10 and it evolves to x=-8. We know that when x=0 that is the **minimum point**, so, yes it is evolving in the correct direction."
      ]
    },
    {
      "cell_type": "code",
      "execution_count": 10,
      "id": "0350981e",
      "metadata": {
        "colab": {
          "base_uri": "https://localhost:8080/"
        },
        "id": "0350981e",
        "outputId": "2fdbaf7a-c0de-40d5-dbea-8cfe02f29b8f"
      },
      "outputs": [
        {
          "output_type": "stream",
          "name": "stdout",
          "text": [
            "-8.0\n"
          ]
        }
      ],
      "source": [
        "x=-10\n",
        "x, collectedXs = gradient_descent(x, nsteps=1)\n",
        "print(x)"
      ]
    },
    {
      "cell_type": "code",
      "execution_count": 11,
      "id": "f8e01e2d",
      "metadata": {
        "colab": {
          "base_uri": "https://localhost:8080/"
        },
        "id": "f8e01e2d",
        "outputId": "ddf641aa-266a-4c1d-b743-338b1b84a836"
      },
      "outputs": [
        {
          "output_type": "stream",
          "name": "stdout",
          "text": [
            "-6.4\n"
          ]
        }
      ],
      "source": [
        "#The next step will start at x=-8. Let's run gradient for 1 step\n",
        "\n",
        "x, collectedXs = gradient_descent(x, nsteps=1)\n",
        "print(x)"
      ]
    },
    {
      "cell_type": "markdown",
      "id": "93f13b32",
      "metadata": {
        "id": "93f13b32"
      },
      "source": [
        "It goes to x=-6.4. Excelent. Now let's run it 1000 times"
      ]
    },
    {
      "cell_type": "code",
      "execution_count": 12,
      "id": "b699d1fb",
      "metadata": {
        "colab": {
          "base_uri": "https://localhost:8080/"
        },
        "id": "b699d1fb",
        "outputId": "c2c32e7e-0b6c-4e82-a06c-00eae0811d75"
      },
      "outputs": [
        {
          "output_type": "stream",
          "name": "stdout",
          "text": [
            "-7.873484301831169e-97\n"
          ]
        }
      ],
      "source": [
        "x, collectedXs = gradient_descent(x, nsteps=1000)\n",
        "print(x)"
      ]
    },
    {
      "cell_type": "code",
      "execution_count": 13,
      "id": "0b76ee22",
      "metadata": {
        "colab": {
          "base_uri": "https://localhost:8080/",
          "height": 265
        },
        "id": "0b76ee22",
        "outputId": "77bd9d57-915e-440b-cef9-1b58eb7dc956"
      },
      "outputs": [
        {
          "output_type": "display_data",
          "data": {
            "text/plain": [
              "<Figure size 432x288 with 1 Axes>"
            ],
            "image/png": "[encoded data removed]"
          },
          "metadata": {
            "needs_background": "light"
          }
        }
      ],
      "source": [
        "visualize(f, x=collectedXs)"
      ]
    },
    {
      "cell_type": "markdown",
      "id": "d00d2fbb",
      "metadata": {
        "id": "d00d2fbb"
      },
      "source": [
        "### Exercise 3\n",
        "\n",
        "When I arrive to the coffee machine, I hear my colleague talking about the per-unit costs of producing 'product B' for the company. As the company produces more units, the per-unit costs continue to decrease until a point where it starts to increase.\n",
        "\n",
        "To optimise the per-unit production cost at its minimal to optimise efficiency, the company would need to find the rate of change at zero which is when the per-unit production costs begin to change from decreasing to increasing.\n",
        "\n",
        "Build a quadratic function $f(x)=0.1(x)^2−9x +4500$ on $x∈[0,100]$  to create the per-unit cost function, and make a conclusion."
      ]
    },
    {
      "cell_type": "code",
      "execution_count": 14,
      "id": "7c67d8b7",
      "metadata": {
        "colab": {
          "base_uri": "https://localhost:8080/",
          "height": 282
        },
        "id": "7c67d8b7",
        "outputId": "88ef1e1a-c869-4f60-b4cf-76993c17d5c0"
      },
      "outputs": [
        {
          "output_type": "execute_result",
          "data": {
            "text/plain": [
              "[<matplotlib.lines.Line2D at 0x7f13a31aa1d0>]"
            ]
          },
          "metadata": {},
          "execution_count": 14
        },
        {
          "output_type": "display_data",
          "data": {
            "text/plain": [
              "<Figure size 432x288 with 1 Axes>"
            ],
            "image/png": "[encoded data removed]"
          },
          "metadata": {
            "needs_background": "light"
          }
        }
      ],
      "source": [
        "#define and plot the function\n",
        "def f(x):\n",
        "  return 0.1*x**2-9*x+4500\n",
        "\n",
        "x = np.linspace(0, 100, 200)\n",
        "plt.plot(x, f(x))"
      ]
    },
    {
      "cell_type": "markdown",
      "id": "fbe54895",
      "metadata": {
        "id": "fbe54895"
      },
      "source": [
        "We saw with Gradient Descent how the red dot navigates in an environment it does not know about. It only knows the coordinates of where it is and its gradient. The red dot could find the minimum point by using only this knowledge and gradient descent algorithm.\n",
        "\n",
        "**Optional:**\n",
        "\n",
        "With numpy implement gradient descent formula and derivative of function for the per-unit cost exercise."
      ]
    },
    {
      "cell_type": "markdown",
      "id": "aabad82c",
      "metadata": {
        "id": "aabad82c"
      },
      "source": [
        "## Linear Algebra"
      ]
    },
    {
      "cell_type": "markdown",
      "id": "6753636d",
      "metadata": {
        "id": "6753636d"
      },
      "source": [
        "### Exercise 1 : Sum of two matrices\n",
        "\n",
        "Suppose we have two matrices A and B.\n",
        "```py\n",
        "A = [[1,2],[3,4]]\n",
        "B = [[4,5],[6,7]]\n",
        "\n",
        "then we get\n",
        "A+B = [[5,7],[9,11]]\n",
        "A-B = [[-3,-3],[-3,-3]]\n",
        "```\n",
        "\n",
        "Make the sum of two matrices using Python with Numpy"
      ]
    },
    {
      "cell_type": "code",
      "execution_count": 15,
      "id": "9e200c32",
      "metadata": {
        "colab": {
          "base_uri": "https://localhost:8080/"
        },
        "id": "9e200c32",
        "outputId": "ea9d5256-5ff7-417b-edaa-ec46474d5bad"
      },
      "outputs": [
        {
          "output_type": "stream",
          "name": "stdout",
          "text": [
            "m1: \n",
            " [[0 1 2]\n",
            " [3 4 5]\n",
            " [6 7 8]]\n",
            "m2: \n",
            " [[10 11 12]\n",
            " [13 14 15]\n",
            " [16 17 18]]\n",
            "\n",
            "Sum m1 + m2 \n",
            " [[10 12 14]\n",
            " [16 18 20]\n",
            " [22 24 26]]\n"
          ]
        }
      ],
      "source": [
        "# importing numpy as np\n",
        "\n",
        " \n",
        " \n",
        "# creating first matrix\n",
        "m1 = np.arange(0, 9).reshape(3,3)\n",
        " \n",
        "# creating second matrix\n",
        "m2 = np.arange(10, 19).reshape(3,3)\n",
        " \n",
        "#print elements\n",
        "print(\"m1: \\n\", m1)\n",
        "print(\"m2: \\n\", m2)\n",
        " \n",
        "# adding two matrix\n",
        "print('\\nSum m1 + m2 \\n',m1+m2)\n"
      ]
    },
    {
      "cell_type": "markdown",
      "id": "93bfb6cc",
      "metadata": {
        "id": "93bfb6cc"
      },
      "source": [
        "### Exercise 2: Sum of two lists\n",
        "\n",
        "There will be many situations in which we'll have to find index wise summation of two different lists. This can have possible applications in day-to-day programming. In this exercise we will solve the same problem with various ways in which this task can be performed.\n",
        "\n",
        "We have the following two lists:\n",
        "```py\n",
        "list1 = [2, 5, 4, 7, 3]\n",
        "list2 = [1, 4, 6, 9, 10]\n",
        "```\n",
        "\n",
        "Now let's use Python code to demonstrate addition of two lists.\n"
      ]
    },
    {
      "cell_type": "code",
      "execution_count": 16,
      "id": "867b70fc",
      "metadata": {
        "colab": {
          "base_uri": "https://localhost:8080/"
        },
        "id": "867b70fc",
        "outputId": "aec5ee73-3a0b-4bc3-808f-fb67029aa252"
      },
      "outputs": [
        {
          "output_type": "stream",
          "name": "stdout",
          "text": [
            "Original list 1 : [2, 5, 4, 7, 3]\n",
            "Original list 2 : [1, 4, 6, 9, 10]\n",
            "Resultant list is : [3, 9, 10, 16, 13]\n"
          ]
        }
      ],
      "source": [
        "# Naive method\n",
        "\n",
        "# initializing lists\n",
        "list1 = [2, 5, 4, 7, 3]\n",
        "list2 = [1, 4, 6, 9, 10]\n",
        " \n",
        "# printing original lists\n",
        "print (\"Original list 1 : \" + str(list1))\n",
        "print (\"Original list 2 : \" + str(list2))\n",
        " \n",
        "# using naive method to \n",
        "# add two list \n",
        "res_list = []\n",
        "for i in range(0, len(list1)):\n",
        " res_list.append(list1[i] + list2[i])\n",
        " \n",
        "# printing resultant list \n",
        "print (\"Resultant list is : \" + str(res_list))"
      ]
    },
    {
      "cell_type": "markdown",
      "id": "7a063d7f",
      "metadata": {
        "id": "7a063d7f"
      },
      "source": [
        "Now use the following three different methods to make the same calculation: sum of two lists"
      ]
    },
    {
      "cell_type": "code",
      "execution_count": 17,
      "id": "681930a3",
      "metadata": {
        "colab": {
          "base_uri": "https://localhost:8080/"
        },
        "id": "681930a3",
        "outputId": "02953ffd-1826-4b80-8d2c-fbef60e90e92"
      },
      "outputs": [
        {
          "output_type": "stream",
          "name": "stdout",
          "text": [
            "Original list 1 : [2, 5, 4, 7, 3]\n",
            "Original list 2 : [1, 4, 6, 9, 10]\n",
            "Sum by List comprenhension:  [3, 9, 10, 16, 13]\n"
          ]
        }
      ],
      "source": [
        "# Use list comprehensions to perform addition of the two lists:\n",
        "\n",
        "# initializing lists\n",
        "list1 = [2, 5, 4, 7, 3]\n",
        "list2 = [1, 4, 6, 9, 10]\n",
        " \n",
        "# printing original lists\n",
        "print (\"Original list 1 : \" + str(list1))\n",
        "print (\"Original list 2 : \" + str(list2))\n",
        " \n",
        "# using list comprehension to add two list \n",
        "print(\"Sum by List comprenhension: \", [list1[x] + list2[x] for x in range (len (list1))])\n",
        " \n",
        "# printing resultant list \n"
      ]
    },
    {
      "cell_type": "code",
      "execution_count": 18,
      "id": "a3a8a425",
      "metadata": {
        "colab": {
          "base_uri": "https://localhost:8080/"
        },
        "id": "a3a8a425",
        "outputId": "3c677b6f-c889-4f81-cb9c-69462177edef"
      },
      "outputs": [
        {
          "output_type": "stream",
          "name": "stdout",
          "text": [
            "Original list 1 : [2, 5, 4, 7, 3]\n",
            "Original list 2 : [1, 4, 6, 9, 10]\n",
            "\n",
            "List sum using map and add: \n",
            " [3, 9, 10, 16, 13]\n"
          ]
        }
      ],
      "source": [
        "# Use map() + add():\n",
        "from operator import add\n",
        "\n",
        "# initializing lists\n",
        "list1 = [2, 5, 4, 7, 3]\n",
        "list2 = [1, 4, 6, 9, 10]\n",
        " \n",
        "# printing original lists\n",
        "print (\"Original list 1 : \" + str(list1))\n",
        "print (\"Original list 2 : \" + str(list2))\n",
        " \n",
        "# using map() + add() to add two list \n",
        "\n",
        " \n",
        "# printing resultant list \n",
        "print('\\nList sum using map and add: \\n',list( map (add, list1, list2)))"
      ]
    },
    {
      "cell_type": "code",
      "execution_count": 19,
      "id": "1708d7ee",
      "metadata": {
        "id": "1708d7ee",
        "colab": {
          "base_uri": "https://localhost:8080/"
        },
        "outputId": "e6bc41f2-5d05-44b7-d9b1-67049469e592"
      },
      "outputs": [
        {
          "output_type": "stream",
          "name": "stdout",
          "text": [
            "Original list 1 : [2, 5, 4, 7, 3]\n",
            "Original list 2 : [1, 4, 6, 9, 10]\n",
            "\n",
            "List sum using zip and sum: \n",
            " [3, 9, 10, 16, 13]\n"
          ]
        }
      ],
      "source": [
        "# Use zip() + sum():\n",
        "\n",
        "# initializing lists\n",
        "list1 = [2, 5, 4, 7, 3]\n",
        "list2 = [1, 4, 6, 9, 10]\n",
        " \n",
        "# printing original lists\n",
        "print (\"Original list 1 : \" + str(list1))\n",
        "print (\"Original list 2 : \" + str(list2))\n",
        " \n",
        "# Using zip() + sum() to add two list \n",
        "\n",
        " \n",
        "# printing resultant list \n",
        "print('\\nList sum using zip and sum: \\n', [sum(i) for i in zip(list1, list2 )])"
      ]
    },
    {
      "cell_type": "markdown",
      "id": "1aef1bd2",
      "metadata": {
        "id": "1aef1bd2"
      },
      "source": [
        "### Exercise 3 : Dot multiplication\n",
        "\n",
        "We have two matrices:\n",
        "```py\n",
        "matrix1 = [[1,7,3],\n",
        " [ 4,5,2],\n",
        " [ 3,6,1]]\n",
        "matrix2 = [[5,4,1],\n",
        " [ 1,2,3],\n",
        " [ 4,5,2]]\n",
        "```\n",
        "\n",
        "A simple technique but expensive method for larger input datasets is using for loops. In this exercise we will first use nested for loops to iterate through each row and column of the matrices, and then we will perform the same multiplication using Numpy."
      ]
    },
    {
      "cell_type": "code",
      "execution_count": 20,
      "id": "840e7d0e",
      "metadata": {
        "colab": {
          "base_uri": "https://localhost:8080/"
        },
        "id": "840e7d0e",
        "outputId": "fa1f3ed9-6b8b-4428-9f2c-cb505c1b88eb"
      },
      "outputs": [
        {
          "output_type": "stream",
          "name": "stdout",
          "text": [
            "[[24, 33, 28], [33, 36, 23], [25, 29, 23]]\n"
          ]
        }
      ],
      "source": [
        "#Using a for loop input two matrices of size n x m\n",
        "matrix1 = [[1,7,3],\n",
        " [ 4,5,2],\n",
        " [ 3,6,1]]\n",
        "matrix2 = [[5,4,1],\n",
        " [ 1,2,3],\n",
        " [ 4,5,2]]\n",
        " \n",
        "res = [[0 for x in range(3)] for y in range(3)]\n",
        " \n",
        "# explicit for loops\n",
        "for i in range(len(matrix1)):\n",
        " for j in range(len(matrix2[0])):\n",
        "  for k in range(len(matrix2)):\n",
        " \n",
        " # resulted matrix\n",
        "    res[i][j] += matrix1[i][k] * matrix2[k][j]\n",
        " \n",
        "print (res)"
      ]
    },
    {
      "cell_type": "code",
      "execution_count": 21,
      "id": "db6c3355",
      "metadata": {
        "id": "db6c3355",
        "colab": {
          "base_uri": "https://localhost:8080/"
        },
        "outputId": "f9c3e0e9-50e0-441d-ead9-c1b249b79284"
      },
      "outputs": [
        {
          "output_type": "stream",
          "name": "stdout",
          "text": [
            "Resulted matrix: \n",
            " [[24 33 28]\n",
            " [33 36 23]\n",
            " [25 29 23]]\n"
          ]
        }
      ],
      "source": [
        "# Import libraries\n",
        "\n",
        " \n",
        "# input two matrices\n",
        "matrix1 = [[1,7,3],\n",
        " [ 4,5,2],\n",
        " [ 3,6,1]]\n",
        "matrix2 = [[5,4,1],\n",
        " [ 1,2,3],\n",
        " [ 4,5,2]]\n",
        " \n",
        "# This will return dot product\n",
        "\n",
        " \n",
        "# print resulted matrix\n",
        "print('Resulted matrix: \\n', np.dot(matrix1, matrix2))"
      ]
    }
  ],
  "metadata": {
    "kernelspec": {
      "display_name": "Python 3.8.13 64-bit ('3.8.13')",
      "language": "python",
      "name": "python3"
    },
    "language_info": {
      "codemirror_mode": {
        "name": "ipython",
        "version": 3
      },
      "file_extension": ".py",
      "mimetype": "text/x-python",
      "name": "python",
      "nbconvert_exporter": "python",
      "pygments_lexer": "ipython3",
      "version": "3.8.13"
    },
    "vscode": {
      "interpreter": {
        "hash": "110cc1dee26208153f2972f08a2ad52b6a56238dc66d48e87fb757ef2996db56"
      }
    },
    "colab": {
      "name": "problems.ipynb",
      "provenance": [],
      "collapsed_sections": []
    }
  },
  "nbformat": 4,
  "nbformat_minor": 5
}